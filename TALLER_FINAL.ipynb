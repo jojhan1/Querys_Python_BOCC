{
 "cells": [
  {
   "cell_type": "markdown",
   "id": "233b68aa-702e-49dc-b7af-18e685f66104",
   "metadata": {},
   "source": [
    "# TALLER FINAL PYTHON INTERMEDIO - AVANZADO"
   ]
  },
  {
   "cell_type": "markdown",
   "id": "f972cb42-270d-4abb-92dd-64980ea07659",
   "metadata": {},
   "source": [
    "**Integrantes:**  \n",
    "Melissa Angelica Araujo Guzman   \n",
    "Jhon Jairo Mendez Guaca"
   ]
  },
  {
   "cell_type": "markdown",
   "id": "e3c84022-5ea1-4397-a8e0-4858c87208cd",
   "metadata": {},
   "source": [
    "**INFORMACION INICIAL**\n",
    "\n",
    "**Base Tarjetas de crédito**\n",
    "A partir del corte 29 de septiembre de 2023, las tasas de los productos en UVR no incluyen la variación de la UVR.\n",
    "La información corresponde a las tasas de interés promedio ponderadas, el monto y el número de créditos desembolsados durante la semana para los diferentes tipos de crédito (consumo, vivienda, comercial ordinario, comercial preferencial o corporativo, comercial tesorería, comercial especial y créditos productivos), clasificadas por tipo de persona, sexo, tamaño de empresa, tipo de crédito, tipo de garantía, producto de crédito, plazo del crédito, grupo étnico, antigüedad de la empresa, tipo de tasa, rango por monto desembolsado en salarios mínimos legales mensuales vigentes (SMLMV), clase de deudor, código CIIU y código del municipio, de los establecimientos de crédito.\n",
    "Base_final_s.csv ubicada en el repositorio de datos del curso.\n",
    "\n",
    "La base completa con más de 40 millones de registros puede ser consultada en el siguiente site:\n",
    "https://www.datos.gov.co/Econom-a-y-Finanzas/Tarjetas-de-cr-dito-Colombia/innv-fdhy\n",
    "\n",
    "**Códigos municipios**\n",
    "Código de la división Político Administrativa del país, Actualización a corte 30 diciembre 2024.\n",
    "La base debe ser descargada mediante automatización desde el siguiente site:\n",
    "https://www.datos.gov.co/Mapas-Nacionales/DIVIPOLA-C-digos-municipios/gdxc-w37w/about_data\n",
    "\n",
    "**Solicitudes de crédito**\n",
    "Contiene los valores y plazos de crédito libre inversión que deben ser simulados mediante automatización en el site:\n",
    "https://www.bancodeoccidente.com.co/solicitarcredito/#/simuladorCreditoConsumo\n"
   ]
  },
  {
   "cell_type": "markdown",
   "id": "5b6e1089-8c08-4f8d-9b16-95c20e9dd96b",
   "metadata": {},
   "source": [
    "**Cálculo tasas**  \n",
    "Función que permite hallar la tasa efectiva anual y efectiva mensual de una solicitud de crédito, partiendo del valor solicitado, plazo y valor de cuota."
   ]
  },
  {
   "cell_type": "markdown",
   "id": "e1c317b6-fea9-43a7-b325-4efaec42ec1d",
   "metadata": {},
   "source": [
    "**Proceso:**  \n",
    "**1.** Realizar un análisis descriptivo de la base con la información de las tarjetas de crédito.  Este análisis debe ser lo suficientemente claro para entender los datos y comprender la información más relevante de la base.  \n",
    "**2.** Descargar de forma automática el archivo del divipola para poder insertar el nombre de los municipios a la base con información de tarjeta de crédito.  \n",
    "**3.** Automatizar el proceso de consulta de solicitudes de crédito con la información del archivo solicitudes en la url del banco de occidente.\n"
   ]
  },
  {
   "cell_type": "markdown",
   "id": "deed5b1b-0d68-43cb-a0b4-408f3182cc3c",
   "metadata": {},
   "source": [
    "**Resultados Solicitados:**  \n",
    "**1.** Archivo de Excel con la información de las solicitudes de crédito, complementando la información ya entregada con el valor de la cuota, la tasa efectiva anual y la tasa efectiva mensual.  \n",
    "**2.** Archivo de Excel que contenga las siguientes tablas:  \n",
    "     **-** Cantidad de desembolsos realizados por cada entidad financiera por cada tipo de crédito.  \n",
    "     **-** Cantidad de desembolsos realizados por entidad financiera de acuerdo al sexo.  \n",
    "     **-** Top 7 de municipios con mayor número de desembolsos.  \n",
    "     **-** Top 7 de municipios con menor número de desembolsos.  \n",
    "     **-** Cantidad de desembolsos realizados por la entidad en función del rango del desembolso.     \n",
    "     **-** Top 10 de municipios con mayor número de desembolsos desagregados por Sexo.  "
   ]
  },
  {
   "cell_type": "markdown",
   "id": "5b53c350-3f9d-4ee5-a102-a9c19f7ba839",
   "metadata": {},
   "source": [
    "**Condiciones:**  \n",
    "**1.** En el archivo de salida con las tablas, cada tabla corresponde a una hoja del mismo Excel.  \n",
    "**2.** El proceso de datos debe darse aplicando funciones, es decir, cada acción que realice el código debe ser mediante la invocación de una función.  Estas funciones no deben estar en el mismo query de ejecución, sino en uno o varios archivos .py que se alojen en la carpeta 03_Querys. Esto indica que usted deberá tener un archivo inicializador, que se encargue de cargar las librerías, datos y querys con las funciones requeridas.  En este notebook inicializador deben poder verse los resultados del análisis descriptivo (Tablas y gráficos)  \n",
    "**3.** El código debe estar correctamente comentado y segmentado.  \n",
    "**4.** Considere que el query va a realizar diferentes acciones: Carga de datos, procesamiento, conexiones URL, descarga de datos.  Determine el mejor orden de realizar estas acciones y considere fallas de conectividad que puedan afectar su ejecución.  \n",
    "**5.** La base entregada tiene cerda de 5 millones de filas, pero la base de estrés tiene más de 40 millones, por lo cuál realice una lógica que pueda abordar este volumen de información; no genere bucles innecesarios o reprocesamiento de data no requerida.  \n",
    "**6.** La entrega será una carpeta en .zip (comprimida) que debe seguir la misma estructura de datos entregada en la carpeta del proyecto final.  \n"
   ]
  },
  {
   "cell_type": "markdown",
   "id": "54289653-4f68-4d51-82b4-69dfad44ba55",
   "metadata": {},
   "source": [
    "**IMPORTAMOS LIBRERIAS REQUERIDAS**"
   ]
  },
  {
   "cell_type": "code",
   "execution_count": 1,
   "id": "a61e47a4-8ca4-43df-9732-b0d85ccf890e",
   "metadata": {},
   "outputs": [],
   "source": [
    "\n"
   ]
  },
  {
   "cell_type": "markdown",
   "id": "8f01284e-f3fe-4a19-8759-d6c0a15d241d",
   "metadata": {},
   "source": [
    "**CARGUE DE FUNCIONES**"
   ]
  },
  {
   "cell_type": "code",
   "execution_count": 9,
   "id": "2a8e0181-1e2a-4548-9e79-99a36e860ed5",
   "metadata": {},
   "outputs": [
    {
     "ename": "ModuleNotFoundError",
     "evalue": "No module named 'Limpieza_datos'",
     "output_type": "error",
     "traceback": [
      "\u001b[1;31m---------------------------------------------------------------------------\u001b[0m",
      "\u001b[1;31mModuleNotFoundError\u001b[0m                       Traceback (most recent call last)",
      "Cell \u001b[1;32mIn[9], line 1\u001b[0m\n\u001b[1;32m----> 1\u001b[0m \u001b[38;5;28;01mimport\u001b[39;00m \u001b[38;5;21;01mLimpieza_datos\u001b[39;00m\n\u001b[0;32m      3\u001b[0m Limpieza_datos\u001b[38;5;241m.\u001b[39mgraficar_datos()\n",
      "\u001b[1;31mModuleNotFoundError\u001b[0m: No module named 'Limpieza_datos'"
     ]
    }
   ],
   "source": [
    "import Limpieza_datos\n",
    "\n",
    "Limpieza_datos.graficar_datos()"
   ]
  },
  {
   "cell_type": "code",
   "execution_count": null,
   "id": "ae2f3d4c-19f1-46bb-bd81-39d12342a893",
   "metadata": {},
   "outputs": [],
   "source": [
    "df_resultados_global"
   ]
  },
  {
   "cell_type": "code",
   "execution_count": null,
   "id": "25b21dbf-79f5-4812-a011-d7480b544f5e",
   "metadata": {},
   "outputs": [],
   "source": []
  },
  {
   "cell_type": "code",
   "execution_count": null,
   "id": "63a0f623-8dbd-4bdb-bdc7-5ce2f97af5f5",
   "metadata": {},
   "outputs": [],
   "source": []
  },
  {
   "cell_type": "code",
   "execution_count": null,
   "id": "35b05923-9993-4ac8-9fe8-759e969c7f79",
   "metadata": {},
   "outputs": [],
   "source": []
  },
  {
   "cell_type": "code",
   "execution_count": null,
   "id": "afcead1b-d42b-4807-957c-25ba5d7d87e6",
   "metadata": {},
   "outputs": [],
   "source": []
  }
 ],
 "metadata": {
  "kernelspec": {
   "display_name": "Python [conda env:base] *",
   "language": "python",
   "name": "conda-base-py"
  },
  "language_info": {
   "codemirror_mode": {
    "name": "ipython",
    "version": 3
   },
   "file_extension": ".py",
   "mimetype": "text/x-python",
   "name": "python",
   "nbconvert_exporter": "python",
   "pygments_lexer": "ipython3",
   "version": "3.12.7"
  }
 },
 "nbformat": 4,
 "nbformat_minor": 5
}
