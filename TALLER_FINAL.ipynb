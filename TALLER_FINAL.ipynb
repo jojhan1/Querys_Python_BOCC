{
 "cells": [
  {
   "cell_type": "markdown",
   "id": "233b68aa-702e-49dc-b7af-18e685f66104",
   "metadata": {},
   "source": [
    "# TALLER FINAL PYTHON INTERMEDIO - AVANZADO"
   ]
  },
  {
   "cell_type": "markdown",
   "id": "f972cb42-270d-4abb-92dd-64980ea07659",
   "metadata": {},
   "source": [
    "**Integrantes:**  \n",
    "Melissa Angelica Araujo Guzman   \n",
    "Jhon Jairo Mendez Guaca"
   ]
  },
  {
   "cell_type": "markdown",
   "id": "e3c84022-5ea1-4397-a8e0-4858c87208cd",
   "metadata": {},
   "source": [
    "**INFORMACION INICIAL**\n",
    "\n",
    "**Base Tarjetas de crédito**\n",
    "A partir del corte 29 de septiembre de 2023, las tasas de los productos en UVR no incluyen la variación de la UVR.\n",
    "La información corresponde a las tasas de interés promedio ponderadas, el monto y el número de créditos desembolsados durante la semana para los diferentes tipos de crédito (consumo, vivienda, comercial ordinario, comercial preferencial o corporativo, comercial tesorería, comercial especial y créditos productivos), clasificadas por tipo de persona, sexo, tamaño de empresa, tipo de crédito, tipo de garantía, producto de crédito, plazo del crédito, grupo étnico, antigüedad de la empresa, tipo de tasa, rango por monto desembolsado en salarios mínimos legales mensuales vigentes (SMLMV), clase de deudor, código CIIU y código del municipio, de los establecimientos de crédito.\n",
    "Base_final_s.csv ubicada en el repositorio de datos del curso.\n",
    "\n",
    "La base completa con más de 40 millones de registros puede ser consultada en el siguiente site:\n",
    "https://www.datos.gov.co/Econom-a-y-Finanzas/Tarjetas-de-cr-dito-Colombia/innv-fdhy\n",
    "\n",
    "**Códigos municipios**\n",
    "Código de la división Político Administrativa del país, Actualización a corte 30 diciembre 2024.\n",
    "La base debe ser descargada mediante automatización desde el siguiente site:\n",
    "https://www.datos.gov.co/Mapas-Nacionales/DIVIPOLA-C-digos-municipios/gdxc-w37w/about_data\n",
    "\n",
    "**Solicitudes de crédito**\n",
    "Contiene los valores y plazos de crédito libre inversión que deben ser simulados mediante automatización en el site:\n",
    "https://www.bancodeoccidente.com.co/solicitarcredito/#/simuladorCreditoConsumo\n"
   ]
  },
  {
   "cell_type": "markdown",
   "id": "5b6e1089-8c08-4f8d-9b16-95c20e9dd96b",
   "metadata": {},
   "source": [
    "**Cálculo tasas**  \n",
    "Función que permite hallar la tasa efectiva anual y efectiva mensual de una solicitud de crédito, partiendo del valor solicitado, plazo y valor de cuota."
   ]
  },
  {
   "cell_type": "markdown",
   "id": "e1c317b6-fea9-43a7-b325-4efaec42ec1d",
   "metadata": {},
   "source": [
    "**Proceso:**  \n",
    "**1.** Realizar un análisis descriptivo de la base con la información de las tarjetas de crédito.  Este análisis debe ser lo suficientemente claro para entender los datos y comprender la información más relevante de la base.  \n",
    "**2.** Descargar de forma automática el archivo del divipola para poder insertar el nombre de los municipios a la base con información de tarjeta de crédito.  \n",
    "**3.** Automatizar el proceso de consulta de solicitudes de crédito con la información del archivo solicitudes en la url del banco de occidente.\n"
   ]
  },
  {
   "cell_type": "markdown",
   "id": "deed5b1b-0d68-43cb-a0b4-408f3182cc3c",
   "metadata": {},
   "source": [
    "**Resultados Solicitados:**  \n",
    "**1.** Archivo de Excel con la información de las solicitudes de crédito, complementando la información ya entregada con el valor de la cuota, la tasa efectiva anual y la tasa efectiva mensual.  \n",
    "**2.** Archivo de Excel que contenga las siguientes tablas:  \n",
    "     **-** Cantidad de desembolsos realizados por cada entidad financiera por cada tipo de crédito.  \n",
    "     **-** Cantidad de desembolsos realizados por entidad financiera de acuerdo al sexo.  \n",
    "     **-** Top 7 de municipios con mayor número de desembolsos.  \n",
    "     **-** Top 7 de municipios con menor número de desembolsos.  \n",
    "     **-** Cantidad de desembolsos realizados por la entidad en función del rango del desembolso.     \n",
    "     **-** Top 10 de municipios con mayor número de desembolsos desagregados por Sexo.  "
   ]
  },
  {
   "cell_type": "markdown",
   "id": "5b53c350-3f9d-4ee5-a102-a9c19f7ba839",
   "metadata": {},
   "source": [
    "**Condiciones:**  \n",
    "**1.** En el archivo de salida con las tablas, cada tabla corresponde a una hoja del mismo Excel.  \n",
    "**2.** El proceso de datos debe darse aplicando funciones, es decir, cada acción que realice el código debe ser mediante la invocación de una función.  Estas funciones no deben estar en el mismo query de ejecución, sino en uno o varios archivos .py que se alojen en la carpeta 03_Querys. Esto indica que usted deberá tener un archivo inicializador, que se encargue de cargar las librerías, datos y querys con las funciones requeridas.  En este notebook inicializador deben poder verse los resultados del análisis descriptivo (Tablas y gráficos)  \n",
    "**3.** El código debe estar correctamente comentado y segmentado.  \n",
    "**4.** Considere que el query va a realizar diferentes acciones: Carga de datos, procesamiento, conexiones URL, descarga de datos.  Determine el mejor orden de realizar estas acciones y considere fallas de conectividad que puedan afectar su ejecución.  \n",
    "**5.** La base entregada tiene cerda de 5 millones de filas, pero la base de estrés tiene más de 40 millones, por lo cuál realice una lógica que pueda abordar este volumen de información; no genere bucles innecesarios o reprocesamiento de data no requerida.  \n",
    "**6.** La entrega será una carpeta en .zip (comprimida) que debe seguir la misma estructura de datos entregada en la carpeta del proyecto final.  \n"
   ]
  },
  {
   "cell_type": "markdown",
   "id": "54289653-4f68-4d51-82b4-69dfad44ba55",
   "metadata": {},
   "source": [
    "**IMPORTAMOS LIBRERIAS REQUERIDAS**"
   ]
  },
  {
   "cell_type": "code",
   "execution_count": 1,
   "id": "a61e47a4-8ca4-43df-9732-b0d85ccf890e",
   "metadata": {},
   "outputs": [],
   "source": [
    "import asyncio\n",
    "import nest_asyncio\n",
    "from playwright.async_api import async_playwright\n",
    "import requests\n",
    "from bs4 import BeautifulSoup\n",
    "import pandas as pd"
   ]
  },
  {
   "cell_type": "markdown",
   "id": "8f01284e-f3fe-4a19-8759-d6c0a15d241d",
   "metadata": {},
   "source": [
    "**CARGUE DE FUNCIONES**"
   ]
  },
  {
   "cell_type": "code",
   "execution_count": 5,
   "id": "2a8e0181-1e2a-4548-9e79-99a36e860ed5",
   "metadata": {},
   "outputs": [
    {
     "name": "stdout",
     "output_type": "stream",
     "text": [
      "DataFrame original:\n",
      "   ValorCredito  Plazo\n",
      "0       2000000     12\n",
      "1       2000000     24\n",
      "2       2000000     36\n",
      "3       2000000     48\n",
      "4       3000000     24\n",
      "5       3000000     36\n",
      "6       4500000      6\n",
      "7       4500000     24\n",
      "8      10000000     24\n",
      "9      10000000     36\n",
      "Fila 1/10: Simulando ValorCredito=2000000, Plazo=12\n",
      "Resultado: $196.038\n",
      "Fila 2/10: Simulando ValorCredito=2000000, Plazo=24\n",
      "Resultado: $112.941\n",
      "Fila 3/10: Simulando ValorCredito=2000000, Plazo=36\n",
      "Resultado: $86.091\n",
      "Fila 4/10: Simulando ValorCredito=2000000, Plazo=48\n",
      "Fila 4: No se pudo realizar la simulación (Page.select_option: Timeout 30000ms exceeded.\n",
      "Call log:\n",
      "  - waiting for locator(\"select[name='plazo']\")\n",
      "  -     - locator resolved to 2 elements. Proceeding with the first one: <select id=\"plazo\" required=\"\" name=\"plazo\" ng-model=\"scc.simulacion.plazo\" class=\"form-control input-sm ng-pristine ng-untouched ng-valid ng-not-empty ng-valid-required\">…</select>\n",
      "  -   - attempting select option action\n",
      "  -     2 × waiting for element to be visible and enabled\n",
      "  -       - did not find some options\n",
      "  -     - retrying select option action\n",
      "  -     - waiting 20ms\n",
      "  -     2 × waiting for element to be visible and enabled\n",
      "  -       - did not find some options\n",
      "  -     - retrying select option action\n",
      "  -       - waiting 100ms\n",
      "  -     59 × waiting for element to be visible and enabled\n",
      "  -        - did not find some options\n",
      "  -      - retrying select option action\n",
      "  -        - waiting 500ms\n",
      ")\n",
      "Fila 5/10: Simulando ValorCredito=3000000, Plazo=24\n",
      "Resultado: $169.411\n",
      "Fila 6/10: Simulando ValorCredito=3000000, Plazo=36\n",
      "Resultado: $129.136\n",
      "Fila 7/10: Simulando ValorCredito=4500000, Plazo=6\n",
      "Fila 7: No se pudo realizar la simulación (Page.select_option: Timeout 30000ms exceeded.\n",
      "Call log:\n",
      "  - waiting for locator(\"select[name='plazo']\")\n",
      "  -     - locator resolved to 2 elements. Proceeding with the first one: <select id=\"plazo\" required=\"\" name=\"plazo\" ng-model=\"scc.simulacion.plazo\" class=\"form-control input-sm ng-pristine ng-untouched ng-valid ng-not-empty ng-valid-required\">…</select>\n",
      "  -   - attempting select option action\n",
      "  -     2 × waiting for element to be visible and enabled\n",
      "  -       - did not find some options\n",
      "  -     - retrying select option action\n",
      "  -     - waiting 20ms\n",
      "  -     2 × waiting for element to be visible and enabled\n",
      "  -       - did not find some options\n",
      "  -     - retrying select option action\n",
      "  -       - waiting 100ms\n",
      "  -     59 × waiting for element to be visible and enabled\n",
      "  -        - did not find some options\n",
      "  -      - retrying select option action\n",
      "  -        - waiting 500ms\n",
      ")\n",
      "Fila 8/10: Simulando ValorCredito=4500000, Plazo=24\n",
      "Resultado: $254.116\n",
      "Fila 9/10: Simulando ValorCredito=10000000, Plazo=24\n",
      "Resultado: $564.703\n",
      "Fila 10/10: Simulando ValorCredito=10000000, Plazo=36\n",
      "Resultado: $430.453\n",
      "\n",
      "Resultados de la simulación:\n",
      "  ValorCredito Plazo                        valor_cuota\n",
      "0      2000000    12                           $196.038\n",
      "1      2000000    24                           $112.941\n",
      "2      2000000    36                            $86.091\n",
      "3      2000000    48  No se pudo realizar la simulación\n",
      "4      3000000    24                           $169.411\n",
      "5      3000000    36                           $129.136\n",
      "6      4500000     6  No se pudo realizar la simulación\n",
      "7      4500000    24                           $254.116\n",
      "8     10000000    24                           $564.703\n",
      "9     10000000    36                           $430.453\n",
      "  ValorCredito Plazo  valor_cuota\n",
      "0      2000000    12       196038\n",
      "1      2000000    24       112941\n",
      "2      2000000    36        86091\n",
      "3      2000000    48            0\n",
      "4      3000000    24       169411\n",
      "5      3000000    36       129136\n",
      "6      4500000     6            0\n",
      "7      4500000    24       254116\n",
      "8     10000000    24       564703\n",
      "9     10000000    36       430453\n",
      "Archivo Excel guardado en: ../03_Resultados\\Resultados_tasa.xlsx\n"
     ]
    },
    {
     "ename": "NameError",
     "evalue": "name 'df' is not defined",
     "output_type": "error",
     "traceback": [
      "\u001b[1;31m---------------------------------------------------------------------------\u001b[0m",
      "\u001b[1;31mNameError\u001b[0m                                 Traceback (most recent call last)",
      "Cell \u001b[1;32mIn[5], line 13\u001b[0m\n\u001b[0;32m      8\u001b[0m get_ipython()\u001b[38;5;241m.\u001b[39mrun_line_magic(\u001b[38;5;124m'\u001b[39m\u001b[38;5;124mrun\u001b[39m\u001b[38;5;124m'\u001b[39m, \u001b[38;5;124m'\u001b[39m\u001b[38;5;124mSimulacion1.ipynb\u001b[39m\u001b[38;5;124m'\u001b[39m)\n\u001b[0;32m     10\u001b[0m \u001b[38;5;66;03m# Ahora ejecutamos la función main en este notebookasyncio.run(main())\u001b[39;00m\n\u001b[0;32m     11\u001b[0m \n\u001b[0;32m     12\u001b[0m \u001b[38;5;66;03m# Puedes acceder a la variable 'df' desde el nuevo notebook\u001b[39;00m\n\u001b[1;32m---> 13\u001b[0m \u001b[38;5;28mprint\u001b[39m(df\u001b[38;5;241m.\u001b[39mhead())\n\u001b[0;32m     14\u001b[0m df_resultados_global\n",
      "\u001b[1;31mNameError\u001b[0m: name 'df' is not defined"
     ]
    }
   ],
   "source": [
    "import nest_asyncio\n",
    "import asyncio\n",
    "\n",
    "# Aplicamos nest_asyncio\n",
    "nest_asyncio.apply()\n",
    "\n",
    "# Ejecutamos el notebook\n",
    "%run Simulacion1.ipynb\n",
    "\n",
    "# Ahora ejecutamos la función main en este notebookasyncio.run(main())\n",
    "\n",
    "# Puedes acceder a la variable 'df' desde el nuevo notebook\n",
    "print(df_resultados_global.head())\n",
    "df_resultados_global"
   ]
  },
  {
   "cell_type": "code",
   "execution_count": 6,
   "id": "ae2f3d4c-19f1-46bb-bd81-39d12342a893",
   "metadata": {},
   "outputs": [
    {
     "data": {
      "text/html": [
       "<div>\n",
       "<style scoped>\n",
       "    .dataframe tbody tr th:only-of-type {\n",
       "        vertical-align: middle;\n",
       "    }\n",
       "\n",
       "    .dataframe tbody tr th {\n",
       "        vertical-align: top;\n",
       "    }\n",
       "\n",
       "    .dataframe thead th {\n",
       "        text-align: right;\n",
       "    }\n",
       "</style>\n",
       "<table border=\"1\" class=\"dataframe\">\n",
       "  <thead>\n",
       "    <tr style=\"text-align: right;\">\n",
       "      <th></th>\n",
       "      <th>ValorCredito</th>\n",
       "      <th>Plazo</th>\n",
       "      <th>valor_cuota</th>\n",
       "    </tr>\n",
       "  </thead>\n",
       "  <tbody>\n",
       "    <tr>\n",
       "      <th>0</th>\n",
       "      <td>2000000</td>\n",
       "      <td>12</td>\n",
       "      <td>196038</td>\n",
       "    </tr>\n",
       "    <tr>\n",
       "      <th>1</th>\n",
       "      <td>2000000</td>\n",
       "      <td>24</td>\n",
       "      <td>112941</td>\n",
       "    </tr>\n",
       "    <tr>\n",
       "      <th>2</th>\n",
       "      <td>2000000</td>\n",
       "      <td>36</td>\n",
       "      <td>86091</td>\n",
       "    </tr>\n",
       "    <tr>\n",
       "      <th>3</th>\n",
       "      <td>2000000</td>\n",
       "      <td>48</td>\n",
       "      <td>0</td>\n",
       "    </tr>\n",
       "    <tr>\n",
       "      <th>4</th>\n",
       "      <td>3000000</td>\n",
       "      <td>24</td>\n",
       "      <td>169411</td>\n",
       "    </tr>\n",
       "    <tr>\n",
       "      <th>5</th>\n",
       "      <td>3000000</td>\n",
       "      <td>36</td>\n",
       "      <td>129136</td>\n",
       "    </tr>\n",
       "    <tr>\n",
       "      <th>6</th>\n",
       "      <td>4500000</td>\n",
       "      <td>6</td>\n",
       "      <td>0</td>\n",
       "    </tr>\n",
       "    <tr>\n",
       "      <th>7</th>\n",
       "      <td>4500000</td>\n",
       "      <td>24</td>\n",
       "      <td>254116</td>\n",
       "    </tr>\n",
       "    <tr>\n",
       "      <th>8</th>\n",
       "      <td>10000000</td>\n",
       "      <td>24</td>\n",
       "      <td>564703</td>\n",
       "    </tr>\n",
       "    <tr>\n",
       "      <th>9</th>\n",
       "      <td>10000000</td>\n",
       "      <td>36</td>\n",
       "      <td>430453</td>\n",
       "    </tr>\n",
       "  </tbody>\n",
       "</table>\n",
       "</div>"
      ],
      "text/plain": [
       "  ValorCredito Plazo  valor_cuota\n",
       "0      2000000    12       196038\n",
       "1      2000000    24       112941\n",
       "2      2000000    36        86091\n",
       "3      2000000    48            0\n",
       "4      3000000    24       169411\n",
       "5      3000000    36       129136\n",
       "6      4500000     6            0\n",
       "7      4500000    24       254116\n",
       "8     10000000    24       564703\n",
       "9     10000000    36       430453"
      ]
     },
     "execution_count": 6,
     "metadata": {},
     "output_type": "execute_result"
    }
   ],
   "source": [
    "df_resultados_global"
   ]
  },
  {
   "cell_type": "code",
   "execution_count": null,
   "id": "25b21dbf-79f5-4812-a011-d7480b544f5e",
   "metadata": {},
   "outputs": [],
   "source": []
  },
  {
   "cell_type": "code",
   "execution_count": null,
   "id": "63a0f623-8dbd-4bdb-bdc7-5ce2f97af5f5",
   "metadata": {},
   "outputs": [],
   "source": []
  },
  {
   "cell_type": "code",
   "execution_count": null,
   "id": "35b05923-9993-4ac8-9fe8-759e969c7f79",
   "metadata": {},
   "outputs": [],
   "source": []
  },
  {
   "cell_type": "code",
   "execution_count": null,
   "id": "afcead1b-d42b-4807-957c-25ba5d7d87e6",
   "metadata": {},
   "outputs": [],
   "source": []
  }
 ],
 "metadata": {
  "kernelspec": {
   "display_name": "Python [conda env:base] *",
   "language": "python",
   "name": "conda-base-py"
  },
  "language_info": {
   "codemirror_mode": {
    "name": "ipython",
    "version": 3
   },
   "file_extension": ".py",
   "mimetype": "text/x-python",
   "name": "python",
   "nbconvert_exporter": "python",
   "pygments_lexer": "ipython3",
   "version": "3.12.7"
  }
 },
 "nbformat": 4,
 "nbformat_minor": 5
}
