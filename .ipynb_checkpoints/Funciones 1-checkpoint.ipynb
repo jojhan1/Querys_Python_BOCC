{
 "cells": [
  {
   "cell_type": "markdown",
   "id": "6a65e04f-a3ff-4bdc-aa52-8a71a892c5e7",
   "metadata": {},
   "source": [
    "**Cargue de librerias**"
   ]
  },
  {
   "cell_type": "code",
   "execution_count": 3,
   "id": "0d99e738-9555-4cbc-b965-74ffdc3c15e5",
   "metadata": {},
   "outputs": [],
   "source": [
    "import pandas as pd\n",
    "import os\n",
    "import sys\n",
    "import asyncio\n",
    "from playwright.async_api import async_playwright\n",
    "from pathlib import Path\n"
   ]
  },
  {
   "cell_type": "markdown",
   "id": "ecde7767-abfb-4b53-b0f9-98c0df6c6540",
   "metadata": {},
   "source": [
    "**Cargue Data**"
   ]
  },
  {
   "cell_type": "code",
   "execution_count": 8,
   "id": "cefc5b57-0b68-44bd-a5a5-b4d8613198d2",
   "metadata": {},
   "outputs": [
    {
     "name": "stdout",
     "output_type": "stream",
     "text": [
      "Archivo guardado en: ../02_Querys\\Resultados_simulacion.py\n"
     ]
    }
   ],
   "source": [
    "#generar archivo resultados simulacion.py\n",
    "ruta_carpeta = (\"../02_Querys\")  # cambiar ruta para que se generica\n",
    "\n",
    "# Verificar si la carpeta existe\n",
    "if not os.path.exists(ruta_carpeta):\n",
    "    print(f\" Error: La carpeta '{ruta_carpeta}' no existe. Verifica la ruta.\")\n",
    "else:\n",
    "    # Nombre del archivo\n",
    "    archivo = \"Resultados_simulacion.py\"\n",
    "\n",
    "    # Ruta completa del archivo\n",
    "    ruta_archivo = os.path.join(ruta_carpeta, archivo)\n",
    "\n",
    "\n",
    "    # Guardar el DataFrame en el archivo .py\n",
    "    with open(ruta_archivo, \"w\") as f:\n",
    "        f.write(\"import pandas as pd\\n\\n\")  # Importación en el archivo\n",
    "        #f.write(f\"df = {df.to_dict()}\\n\")   # Guarda el DataFrame como un diccionario\n",
    "\n",
    "    print(f\"Archivo guardado en: {ruta_archivo}\")"
   ]
  },
  {
   "cell_type": "code",
   "execution_count": null,
   "id": "90d70c16-b804-42ed-9cc9-adadc1f03e3e",
   "metadata": {},
   "outputs": [],
   "source": []
  },
  {
   "cell_type": "markdown",
   "id": "01d611c8-27d0-4c95-8cd2-6f345165fd20",
   "metadata": {},
   "source": [
    "**Funcion aplicar tasa**"
   ]
  },
  {
   "cell_type": "code",
   "execution_count": 11,
   "id": "e48f6dc6-7dba-4178-905c-8afa9e1b7e05",
   "metadata": {},
   "outputs": [
    {
     "name": "stderr",
     "output_type": "stream",
     "text": [
      "C:\\Users\\BANCO\\AppData\\Local\\Temp\\ipykernel_8344\\872628838.py:14: RuntimeWarning: divide by zero encountered in scalar divide\n",
      "  r -= f_r / f_r_deriv\n",
      "C:\\Users\\BANCO\\AppData\\Local\\Temp\\ipykernel_8344\\872628838.py:14: RuntimeWarning: invalid value encountered in scalar subtract\n",
      "  r -= f_r / f_r_deriv\n"
     ]
    },
    {
     "name": "stdout",
     "output_type": "stream",
     "text": [
      "Archivo Excel con tasas guardado en: ../03_Resultados/tasas_calculadas.xlsx\n"
     ]
    }
   ],
   "source": [
    "\n",
    "# Definir la función para calcular la tasa\n",
    "def calcular_tasa(P, A, n, tol=1e-6, max_iter=1000):\n",
    "    \n",
    "    #Calcula la tasa de interés mensual y anual de un préstamo.\n",
    " \n",
    "    r = 0.05  # Suposición inicial (5%)\n",
    "    for _ in range(max_iter):\n",
    "        f_r = P - (A * (1 - (1 + r) ** -n) / r)\n",
    "        f_r_deriv = (A * ((1 + r) ** -n * n / (1 + r) - 1) / r**2)\n",
    "        \n",
    "        if abs(f_r) < tol:\n",
    "            break\n",
    "        \n",
    "        r -= f_r / f_r_deriv\n",
    "    \n",
    "    # Calcular tasas anuales\n",
    "    tasa_efectiva_anual = (1 + r) ** 12 - 1\n",
    "    \n",
    "    return tasa_efectiva_anual, r\n",
    "\n",
    "#  Ruta del archivo Excel de entrada\n",
    "ruta_entrada = (\"../03_Resultados/Resultados_tasa.xlsx\")  # Cambia la ruta\n",
    "\n",
    "# Cargar los datos desde el archivo Excel\n",
    "df_resultados_global = pd.read_excel(ruta_entrada)\n",
    "\n",
    "#  Verificar que las columnas necesarias existen\n",
    "columnas_requeridas = {\"ValorCredito\", \"valor_cuota\", \"Plazo\"}\n",
    "if not columnas_requeridas.issubset(df_resultados_global.columns):\n",
    "    raise ValueError(f\" Faltan columnas necesarias en el archivo Excel: {columnas_requeridas - set(df_resultados_global.columns)}\")\n",
    "\n",
    "#  Aplicar la función de tasa de interés a cada fila\n",
    "df_resultados_global[[\"TEA\", \"Tasa_Mensual\"]] = df_resultados_global.apply(\n",
    "    lambda row: calcular_tasa(row[\"ValorCredito\"], row[\"valor_cuota\"], row[\"Plazo\"]),\n",
    "    axis=1, result_type=\"expand\"\n",
    ")\n",
    "\n",
    "# Definir la ruta del archivo de salida\n",
    "ruta_salida =  (\"../03_Resultados/tasas_calculadas.xlsx\")\n",
    "\n",
    "# Guardar el DataFrame con los resultados en un nuevo archivo Excel\n",
    "df_resultados_global.to_excel(ruta_salida, index=False, sheet_name=\"Tasas\")\n",
    "\n",
    "print(f\"Archivo Excel con tasas guardado en: {ruta_salida}\")\n"
   ]
  },
  {
   "cell_type": "code",
   "execution_count": null,
   "id": "28a6904f-e84b-4876-aaf6-442ca5e9418e",
   "metadata": {},
   "outputs": [],
   "source": []
  },
  {
   "cell_type": "code",
   "execution_count": null,
   "id": "ed13e416-eb0c-4fa6-bc41-b8c07e318b9e",
   "metadata": {},
   "outputs": [],
   "source": []
  },
  {
   "cell_type": "code",
   "execution_count": null,
   "id": "3f1f55cf-078b-413e-a3bb-6eb6e07c9b79",
   "metadata": {},
   "outputs": [],
   "source": []
  },
  {
   "cell_type": "code",
   "execution_count": null,
   "id": "c839fccf-d17a-4285-85bf-b1563461c53d",
   "metadata": {},
   "outputs": [],
   "source": []
  },
  {
   "cell_type": "code",
   "execution_count": null,
   "id": "85eda367-accd-4b4c-bc3f-942763d05db2",
   "metadata": {},
   "outputs": [],
   "source": []
  },
  {
   "cell_type": "code",
   "execution_count": null,
   "id": "58519a64-df0b-414a-b9a6-e0eda5822588",
   "metadata": {},
   "outputs": [],
   "source": []
  },
  {
   "cell_type": "code",
   "execution_count": null,
   "id": "796a3490-83f3-4536-ae2b-e82d0acd20e5",
   "metadata": {},
   "outputs": [],
   "source": [
    "\n"
   ]
  },
  {
   "cell_type": "code",
   "execution_count": null,
   "id": "7ebfecfb-d29c-4f73-8b8b-92dd1486f7e3",
   "metadata": {},
   "outputs": [],
   "source": []
  },
  {
   "cell_type": "code",
   "execution_count": null,
   "id": "cbe9b089-dd8a-4cf2-a22a-ed9c511c7b0d",
   "metadata": {},
   "outputs": [],
   "source": []
  },
  {
   "cell_type": "code",
   "execution_count": null,
   "id": "2bec695d-be08-4c85-8620-4193ee378cda",
   "metadata": {},
   "outputs": [],
   "source": []
  },
  {
   "cell_type": "code",
   "execution_count": null,
   "id": "ee6b2b88-279a-4654-b216-f4743eb07cf2",
   "metadata": {},
   "outputs": [],
   "source": []
  }
 ],
 "metadata": {
  "kernelspec": {
   "display_name": "Python 3 (ipykernel)",
   "language": "python",
   "name": "python3"
  },
  "language_info": {
   "codemirror_mode": {
    "name": "ipython",
    "version": 3
   },
   "file_extension": ".py",
   "mimetype": "text/x-python",
   "name": "python",
   "nbconvert_exporter": "python",
   "pygments_lexer": "ipython3",
   "version": "3.12.7"
  }
 },
 "nbformat": 4,
 "nbformat_minor": 5
}
