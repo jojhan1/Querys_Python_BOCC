{
 "cells": [
  {
   "cell_type": "code",
   "execution_count": 13,
   "id": "fce9cf4d-b919-4659-ac8a-58dabc807691",
   "metadata": {},
   "outputs": [
    {
     "ename": "TypeError",
     "evalue": "can't multiply sequence by non-int of type 'float'",
     "output_type": "error",
     "traceback": [
      "\u001b[1;31m---------------------------------------------------------------------------\u001b[0m",
      "\u001b[1;31mTypeError\u001b[0m                                 Traceback (most recent call last)",
      "Cell \u001b[1;32mIn[13], line 19\u001b[0m\n\u001b[0;32m     16\u001b[0m     \u001b[38;5;28;01mreturn\u001b[39;00m pd\u001b[38;5;241m.\u001b[39mSeries({\u001b[38;5;124m'\u001b[39m\u001b[38;5;124mtasa_efectiva_anual\u001b[39m\u001b[38;5;124m'\u001b[39m: tasa_efectiva_anual, \u001b[38;5;124m'\u001b[39m\u001b[38;5;124mtasa_mensual\u001b[39m\u001b[38;5;124m'\u001b[39m: tasa_mensual})\n\u001b[0;32m     18\u001b[0m \u001b[38;5;66;03m# Aplica la función a cada fila del DataFrame\u001b[39;00m\n\u001b[1;32m---> 19\u001b[0m resultados \u001b[38;5;241m=\u001b[39m df\u001b[38;5;241m.\u001b[39mapply(aplicar_calcular_tasa, axis\u001b[38;5;241m=\u001b[39m\u001b[38;5;241m1\u001b[39m)\n\u001b[0;32m     21\u001b[0m \u001b[38;5;66;03m# Combina los resultados con el DataFrame original\u001b[39;00m\n\u001b[0;32m     22\u001b[0m df_resultado \u001b[38;5;241m=\u001b[39m pd\u001b[38;5;241m.\u001b[39mconcat([df, resultados], axis\u001b[38;5;241m=\u001b[39m\u001b[38;5;241m1\u001b[39m)\n",
      "File \u001b[1;32m~\\anaconda3\\Lib\\site-packages\\pandas\\core\\frame.py:10374\u001b[0m, in \u001b[0;36mDataFrame.apply\u001b[1;34m(self, func, axis, raw, result_type, args, by_row, engine, engine_kwargs, **kwargs)\u001b[0m\n\u001b[0;32m  10360\u001b[0m \u001b[38;5;28;01mfrom\u001b[39;00m \u001b[38;5;21;01mpandas\u001b[39;00m\u001b[38;5;21;01m.\u001b[39;00m\u001b[38;5;21;01mcore\u001b[39;00m\u001b[38;5;21;01m.\u001b[39;00m\u001b[38;5;21;01mapply\u001b[39;00m \u001b[38;5;28;01mimport\u001b[39;00m frame_apply\n\u001b[0;32m  10362\u001b[0m op \u001b[38;5;241m=\u001b[39m frame_apply(\n\u001b[0;32m  10363\u001b[0m     \u001b[38;5;28mself\u001b[39m,\n\u001b[0;32m  10364\u001b[0m     func\u001b[38;5;241m=\u001b[39mfunc,\n\u001b[1;32m   (...)\u001b[0m\n\u001b[0;32m  10372\u001b[0m     kwargs\u001b[38;5;241m=\u001b[39mkwargs,\n\u001b[0;32m  10373\u001b[0m )\n\u001b[1;32m> 10374\u001b[0m \u001b[38;5;28;01mreturn\u001b[39;00m op\u001b[38;5;241m.\u001b[39mapply()\u001b[38;5;241m.\u001b[39m__finalize__(\u001b[38;5;28mself\u001b[39m, method\u001b[38;5;241m=\u001b[39m\u001b[38;5;124m\"\u001b[39m\u001b[38;5;124mapply\u001b[39m\u001b[38;5;124m\"\u001b[39m)\n",
      "File \u001b[1;32m~\\anaconda3\\Lib\\site-packages\\pandas\\core\\apply.py:916\u001b[0m, in \u001b[0;36mFrameApply.apply\u001b[1;34m(self)\u001b[0m\n\u001b[0;32m    913\u001b[0m \u001b[38;5;28;01melif\u001b[39;00m \u001b[38;5;28mself\u001b[39m\u001b[38;5;241m.\u001b[39mraw:\n\u001b[0;32m    914\u001b[0m     \u001b[38;5;28;01mreturn\u001b[39;00m \u001b[38;5;28mself\u001b[39m\u001b[38;5;241m.\u001b[39mapply_raw(engine\u001b[38;5;241m=\u001b[39m\u001b[38;5;28mself\u001b[39m\u001b[38;5;241m.\u001b[39mengine, engine_kwargs\u001b[38;5;241m=\u001b[39m\u001b[38;5;28mself\u001b[39m\u001b[38;5;241m.\u001b[39mengine_kwargs)\n\u001b[1;32m--> 916\u001b[0m \u001b[38;5;28;01mreturn\u001b[39;00m \u001b[38;5;28mself\u001b[39m\u001b[38;5;241m.\u001b[39mapply_standard()\n",
      "File \u001b[1;32m~\\anaconda3\\Lib\\site-packages\\pandas\\core\\apply.py:1063\u001b[0m, in \u001b[0;36mFrameApply.apply_standard\u001b[1;34m(self)\u001b[0m\n\u001b[0;32m   1061\u001b[0m \u001b[38;5;28;01mdef\u001b[39;00m \u001b[38;5;21mapply_standard\u001b[39m(\u001b[38;5;28mself\u001b[39m):\n\u001b[0;32m   1062\u001b[0m     \u001b[38;5;28;01mif\u001b[39;00m \u001b[38;5;28mself\u001b[39m\u001b[38;5;241m.\u001b[39mengine \u001b[38;5;241m==\u001b[39m \u001b[38;5;124m\"\u001b[39m\u001b[38;5;124mpython\u001b[39m\u001b[38;5;124m\"\u001b[39m:\n\u001b[1;32m-> 1063\u001b[0m         results, res_index \u001b[38;5;241m=\u001b[39m \u001b[38;5;28mself\u001b[39m\u001b[38;5;241m.\u001b[39mapply_series_generator()\n\u001b[0;32m   1064\u001b[0m     \u001b[38;5;28;01melse\u001b[39;00m:\n\u001b[0;32m   1065\u001b[0m         results, res_index \u001b[38;5;241m=\u001b[39m \u001b[38;5;28mself\u001b[39m\u001b[38;5;241m.\u001b[39mapply_series_numba()\n",
      "File \u001b[1;32m~\\anaconda3\\Lib\\site-packages\\pandas\\core\\apply.py:1081\u001b[0m, in \u001b[0;36mFrameApply.apply_series_generator\u001b[1;34m(self)\u001b[0m\n\u001b[0;32m   1078\u001b[0m \u001b[38;5;28;01mwith\u001b[39;00m option_context(\u001b[38;5;124m\"\u001b[39m\u001b[38;5;124mmode.chained_assignment\u001b[39m\u001b[38;5;124m\"\u001b[39m, \u001b[38;5;28;01mNone\u001b[39;00m):\n\u001b[0;32m   1079\u001b[0m     \u001b[38;5;28;01mfor\u001b[39;00m i, v \u001b[38;5;129;01min\u001b[39;00m \u001b[38;5;28menumerate\u001b[39m(series_gen):\n\u001b[0;32m   1080\u001b[0m         \u001b[38;5;66;03m# ignore SettingWithCopy here in case the user mutates\u001b[39;00m\n\u001b[1;32m-> 1081\u001b[0m         results[i] \u001b[38;5;241m=\u001b[39m \u001b[38;5;28mself\u001b[39m\u001b[38;5;241m.\u001b[39mfunc(v, \u001b[38;5;241m*\u001b[39m\u001b[38;5;28mself\u001b[39m\u001b[38;5;241m.\u001b[39margs, \u001b[38;5;241m*\u001b[39m\u001b[38;5;241m*\u001b[39m\u001b[38;5;28mself\u001b[39m\u001b[38;5;241m.\u001b[39mkwargs)\n\u001b[0;32m   1082\u001b[0m         \u001b[38;5;28;01mif\u001b[39;00m \u001b[38;5;28misinstance\u001b[39m(results[i], ABCSeries):\n\u001b[0;32m   1083\u001b[0m             \u001b[38;5;66;03m# If we have a view on v, we need to make a copy because\u001b[39;00m\n\u001b[0;32m   1084\u001b[0m             \u001b[38;5;66;03m#  series_generator will swap out the underlying data\u001b[39;00m\n\u001b[0;32m   1085\u001b[0m             results[i] \u001b[38;5;241m=\u001b[39m results[i]\u001b[38;5;241m.\u001b[39mcopy(deep\u001b[38;5;241m=\u001b[39m\u001b[38;5;28;01mFalse\u001b[39;00m)\n",
      "Cell \u001b[1;32mIn[13], line 15\u001b[0m, in \u001b[0;36maplicar_calcular_tasa\u001b[1;34m(row)\u001b[0m\n\u001b[0;32m     13\u001b[0m A \u001b[38;5;241m=\u001b[39m row[\u001b[38;5;124m'\u001b[39m\u001b[38;5;124mvalor_cuota\u001b[39m\u001b[38;5;124m'\u001b[39m]\n\u001b[0;32m     14\u001b[0m n \u001b[38;5;241m=\u001b[39m row[\u001b[38;5;124m'\u001b[39m\u001b[38;5;124mPlazo\u001b[39m\u001b[38;5;124m'\u001b[39m]\n\u001b[1;32m---> 15\u001b[0m tasa_efectiva_anual, tasa_mensual \u001b[38;5;241m=\u001b[39m calcular_tasa(P, A, n)\n\u001b[0;32m     16\u001b[0m \u001b[38;5;28;01mreturn\u001b[39;00m pd\u001b[38;5;241m.\u001b[39mSeries({\u001b[38;5;124m'\u001b[39m\u001b[38;5;124mtasa_efectiva_anual\u001b[39m\u001b[38;5;124m'\u001b[39m: tasa_efectiva_anual, \u001b[38;5;124m'\u001b[39m\u001b[38;5;124mtasa_mensual\u001b[39m\u001b[38;5;124m'\u001b[39m: tasa_mensual})\n",
      "File \u001b[1;32mD:\\python_bdo\\curso 2024\\Compendios\\04_Proyecto_final\\02_Querys\\calculo_tasa.py:19\u001b[0m, in \u001b[0;36mcalcular_tasa\u001b[1;34m(P, A, n, tol, max_iter)\u001b[0m\n\u001b[0;32m     17\u001b[0m r \u001b[38;5;241m=\u001b[39m \u001b[38;5;241m0.05\u001b[39m  \u001b[38;5;66;03m# Suposición inicial (5%)\u001b[39;00m\n\u001b[0;32m     18\u001b[0m \u001b[38;5;28;01mfor\u001b[39;00m _ \u001b[38;5;129;01min\u001b[39;00m \u001b[38;5;28mrange\u001b[39m(max_iter):\n\u001b[1;32m---> 19\u001b[0m     f_r \u001b[38;5;241m=\u001b[39m P \u001b[38;5;241m-\u001b[39m (A \u001b[38;5;241m*\u001b[39m (\u001b[38;5;241m1\u001b[39m \u001b[38;5;241m-\u001b[39m (\u001b[38;5;241m1\u001b[39m \u001b[38;5;241m+\u001b[39m r) \u001b[38;5;241m*\u001b[39m\u001b[38;5;241m*\u001b[39m \u001b[38;5;241m-\u001b[39mn) \u001b[38;5;241m/\u001b[39m r)\n\u001b[0;32m     20\u001b[0m     f_r_deriv \u001b[38;5;241m=\u001b[39m (A \u001b[38;5;241m*\u001b[39m ((\u001b[38;5;241m1\u001b[39m \u001b[38;5;241m+\u001b[39m r) \u001b[38;5;241m*\u001b[39m\u001b[38;5;241m*\u001b[39m \u001b[38;5;241m-\u001b[39mn \u001b[38;5;241m*\u001b[39m n \u001b[38;5;241m/\u001b[39m (\u001b[38;5;241m1\u001b[39m \u001b[38;5;241m+\u001b[39m r) \u001b[38;5;241m-\u001b[39m \u001b[38;5;241m1\u001b[39m) \u001b[38;5;241m/\u001b[39m r\u001b[38;5;241m*\u001b[39m\u001b[38;5;241m*\u001b[39m\u001b[38;5;241m2\u001b[39m)\n\u001b[0;32m     22\u001b[0m     \u001b[38;5;28;01mif\u001b[39;00m \u001b[38;5;28mabs\u001b[39m(f_r) \u001b[38;5;241m<\u001b[39m tol:\n",
      "\u001b[1;31mTypeError\u001b[0m: can't multiply sequence by non-int of type 'float'"
     ]
    }
   ],
   "source": [
    "import pandas as pd\n",
    "\n",
    "# Cargar la función calcular_tasa desde otro archivo .py\n",
    "# Supongamos que está en un archivo llamado 'calcular_tasa.py'\n",
    "from calculo_tasa import calcular_tasa\n",
    "\n",
    "# Cargar el DataFrame desde el archivo CSV\n",
    "df = pd.read_csv('resultados_simulacion.csv')\n",
    "\n",
    "# Define una función para aplicar la función calcular_tasa en cada fila del DataFrame\n",
    "def aplicar_calcular_tasa(row):\n",
    "    P = row['ValorCredito']\n",
    "    A = row['valor_cuota']\n",
    "    n = row['Plazo']\n",
    "    tasa_efectiva_anual, tasa_mensual = calcular_tasa(P, A, n)\n",
    "    return pd.Series({'tasa_efectiva_anual': tasa_efectiva_anual, 'tasa_mensual': tasa_mensual})\n",
    "\n",
    "# Aplica la función a cada fila del DataFrame\n",
    "resultados = df.apply(aplicar_calcular_tasa, axis=1)\n",
    "\n",
    "# Combina los resultados con el DataFrame original\n",
    "df_resultado = pd.concat([df, resultados], axis=1)\n",
    "\n",
    "# Muestra el DataFrame resultante\n",
    "print(df_resultado)\n",
    "\n",
    "# Opcional: Guardar el DataFrame resultante en un archivo CSV\n",
    "df_resultado.to_csv('dataframe_resultado.csv', index=False)\n"
   ]
  },
  {
   "cell_type": "code",
   "execution_count": 7,
   "id": "d07cd986-2c02-4efc-b095-7e08bb2c3ebb",
   "metadata": {},
   "outputs": [
    {
     "ename": "NameError",
     "evalue": "name 'df_resultados_global' is not defined",
     "output_type": "error",
     "traceback": [
      "\u001b[1;31m---------------------------------------------------------------------------\u001b[0m",
      "\u001b[1;31mNameError\u001b[0m                                 Traceback (most recent call last)",
      "Cell \u001b[1;32mIn[7], line 1\u001b[0m\n\u001b[1;32m----> 1\u001b[0m df_resultados_global\n",
      "\u001b[1;31mNameError\u001b[0m: name 'df_resultados_global' is not defined"
     ]
    }
   ],
   "source": [
    "df_resultados_global"
   ]
  },
  {
   "cell_type": "code",
   "execution_count": 3,
   "id": "cd9399d8-5920-4848-9059-5b3004683414",
   "metadata": {},
   "outputs": [
    {
     "name": "stdout",
     "output_type": "stream",
     "text": [
      "   ValorCredito  Plazo  valor_cuota  tasa_efectiva_anual  tasa_mensual\n",
      "0       2000000     12          NaN                  NaN           NaN\n",
      "1       2000000     24          NaN                  NaN           NaN\n",
      "2       2000000     36          NaN                  NaN           NaN\n",
      "3       2000000     48          NaN                  NaN           NaN\n",
      "4       3000000     24          NaN                  NaN           NaN\n",
      "5       3000000     36          NaN                  NaN           NaN\n",
      "6       4500000      6          NaN                  NaN           NaN\n",
      "7       4500000     24          NaN                  NaN           NaN\n",
      "8      10000000     24          NaN                  NaN           NaN\n",
      "9      10000000     36          NaN                  NaN           NaN\n"
     ]
    }
   ],
   "source": [
    "import pandas as pd\n",
    "\n",
    "# Cargar la función calcular_tasa desde otro archivo .py\n",
    "# Supongamos que está en un archivo llamado 'calcular_tasa.py'\n",
    "from calculo_tasa import calcular_tasa\n",
    "\n",
    "# Cargar el DataFrame desde el archivo CSV\n",
    "df = pd.read_csv('resultados_simulacion.csv')\n",
    "\n",
    "# Asegurarse de que las columnas sean del tipo correcto (númerico)\n",
    "df['ValorCredito'] = pd.to_numeric(df['ValorCredito'], errors='coerce')\n",
    "df['Plazo'] = pd.to_numeric(df['Plazo'], errors='coerce')\n",
    "df['valor_cuota'] = pd.to_numeric(df['valor_cuota'], errors='coerce')\n",
    "\n",
    "# Define una función para aplicar la función calcular_tasa en cada fila del DataFrame\n",
    "def aplicar_calcular_tasa(row):\n",
    "    P = row['ValorCredito']\n",
    "    A = row['valor_cuota']\n",
    "    n = row['Plazo']\n",
    "    tasa_efectiva_anual, tasa_mensual = calcular_tasa(P, A, n)\n",
    "    return pd.Series({'tasa_efectiva_anual': tasa_efectiva_anual, 'tasa_mensual': tasa_mensual})\n",
    "\n",
    "# Aplica la función a cada fila del DataFrame\n",
    "resultados = df.apply(aplicar_calcular_tasa, axis=1)\n",
    "\n",
    "# Combina los resultados con el DataFrame original\n",
    "df_resultado = pd.concat([df, resultados], axis=1)\n",
    "\n",
    "# Muestra el DataFrame resultante\n",
    "print(df_resultado)\n",
    "\n",
    "# Opcional: Guardar el DataFrame resultante en un archivo CSV\n",
    "df_resultado.to_csv('dataframe_resultado.csv', index=False)"
   ]
  },
  {
   "cell_type": "code",
   "execution_count": 5,
   "id": "fbd51a84-9a8c-4a62-a47d-1a658f0d73f2",
   "metadata": {},
   "outputs": [
    {
     "data": {
      "text/html": [
       "<div>\n",
       "<style scoped>\n",
       "    .dataframe tbody tr th:only-of-type {\n",
       "        vertical-align: middle;\n",
       "    }\n",
       "\n",
       "    .dataframe tbody tr th {\n",
       "        vertical-align: top;\n",
       "    }\n",
       "\n",
       "    .dataframe thead th {\n",
       "        text-align: right;\n",
       "    }\n",
       "</style>\n",
       "<table border=\"1\" class=\"dataframe\">\n",
       "  <thead>\n",
       "    <tr style=\"text-align: right;\">\n",
       "      <th></th>\n",
       "      <th>ValorCredito</th>\n",
       "      <th>Plazo</th>\n",
       "      <th>valor_cuota</th>\n",
       "    </tr>\n",
       "  </thead>\n",
       "  <tbody>\n",
       "    <tr>\n",
       "      <th>0</th>\n",
       "      <td>2000000</td>\n",
       "      <td>12</td>\n",
       "      <td>NaN</td>\n",
       "    </tr>\n",
       "    <tr>\n",
       "      <th>1</th>\n",
       "      <td>2000000</td>\n",
       "      <td>24</td>\n",
       "      <td>NaN</td>\n",
       "    </tr>\n",
       "    <tr>\n",
       "      <th>2</th>\n",
       "      <td>2000000</td>\n",
       "      <td>36</td>\n",
       "      <td>NaN</td>\n",
       "    </tr>\n",
       "    <tr>\n",
       "      <th>3</th>\n",
       "      <td>2000000</td>\n",
       "      <td>48</td>\n",
       "      <td>NaN</td>\n",
       "    </tr>\n",
       "    <tr>\n",
       "      <th>4</th>\n",
       "      <td>3000000</td>\n",
       "      <td>24</td>\n",
       "      <td>NaN</td>\n",
       "    </tr>\n",
       "    <tr>\n",
       "      <th>5</th>\n",
       "      <td>3000000</td>\n",
       "      <td>36</td>\n",
       "      <td>NaN</td>\n",
       "    </tr>\n",
       "    <tr>\n",
       "      <th>6</th>\n",
       "      <td>4500000</td>\n",
       "      <td>6</td>\n",
       "      <td>NaN</td>\n",
       "    </tr>\n",
       "    <tr>\n",
       "      <th>7</th>\n",
       "      <td>4500000</td>\n",
       "      <td>24</td>\n",
       "      <td>NaN</td>\n",
       "    </tr>\n",
       "    <tr>\n",
       "      <th>8</th>\n",
       "      <td>10000000</td>\n",
       "      <td>24</td>\n",
       "      <td>NaN</td>\n",
       "    </tr>\n",
       "    <tr>\n",
       "      <th>9</th>\n",
       "      <td>10000000</td>\n",
       "      <td>36</td>\n",
       "      <td>NaN</td>\n",
       "    </tr>\n",
       "  </tbody>\n",
       "</table>\n",
       "</div>"
      ],
      "text/plain": [
       "   ValorCredito  Plazo  valor_cuota\n",
       "0       2000000     12          NaN\n",
       "1       2000000     24          NaN\n",
       "2       2000000     36          NaN\n",
       "3       2000000     48          NaN\n",
       "4       3000000     24          NaN\n",
       "5       3000000     36          NaN\n",
       "6       4500000      6          NaN\n",
       "7       4500000     24          NaN\n",
       "8      10000000     24          NaN\n",
       "9      10000000     36          NaN"
      ]
     },
     "execution_count": 5,
     "metadata": {},
     "output_type": "execute_result"
    }
   ],
   "source": [
    "df"
   ]
  },
  {
   "cell_type": "code",
   "execution_count": null,
   "id": "22b0ff45-408f-4b7a-8d49-1a732960e7f1",
   "metadata": {},
   "outputs": [],
   "source": []
  }
 ],
 "metadata": {
  "kernelspec": {
   "display_name": "Python [conda env:base] *",
   "language": "python",
   "name": "conda-base-py"
  },
  "language_info": {
   "codemirror_mode": {
    "name": "ipython",
    "version": 3
   },
   "file_extension": ".py",
   "mimetype": "text/x-python",
   "name": "python",
   "nbconvert_exporter": "python",
   "pygments_lexer": "ipython3",
   "version": "3.12.7"
  }
 },
 "nbformat": 4,
 "nbformat_minor": 5
}
